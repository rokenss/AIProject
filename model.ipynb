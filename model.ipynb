{
 "cells": [
  {
   "cell_type": "markdown",
   "metadata": {},
   "source": [
    "Load and prepare the dataset"
   ]
  },
  {
   "cell_type": "code",
   "execution_count": 3,
   "metadata": {},
   "outputs": [],
   "source": [
    "import pandas as pd\n",
    "from sklearn.model_selection import train_test_split\n",
    "\n",
    "def load_famous48_file(file_path):\n",
    "    with open(file_path, \"r\") as f:\n",
    "        lines = f.readlines()\n",
    "\n",
    "    L = int(lines[0].strip())  # number of examples\n",
    "    N = int(lines[1].strip())  # number of pixels\n",
    "    data, labels = [], []\n",
    "\n",
    "    for line in lines[2:]:\n",
    "        values = list(map(float, line.strip().split()))\n",
    "        if len(values) >= N + 8:\n",
    "            features = values[:N]\n",
    "            class_label = int(values[-6])  # class label (a3)\n",
    "            data.append(features)\n",
    "            labels.append(class_label)\n",
    "\n",
    "    return pd.DataFrame(data), pd.Series(labels)\n",
    "\n",
    "# Load all parts\n",
    "X1, y1 = load_famous48_file(\"famous48/x24x24.txt\")\n",
    "X2, y2 = load_famous48_file(\"famous48/y24x24.txt\")\n",
    "X3, y3 = load_famous48_file(\"famous48/z24x24.txt\")\n",
    "\n",
    "# Combine\n",
    "X = pd.concat([X1, X2, X3], ignore_index=True)\n",
    "y = pd.concat([y1, y2, y3], ignore_index=True)\n",
    "\n",
    "# Split\n",
    "X_train, X_test, y_train, y_test = train_test_split(X, y, test_size=0.25, stratify=y, random_state=42)"
   ]
  },
  {
   "cell_type": "markdown",
   "metadata": {},
   "source": [
    "Train and Evaluate"
   ]
  },
  {
   "cell_type": "code",
   "execution_count": 4,
   "metadata": {},
   "outputs": [],
   "source": [
    "from sklearn.tree import DecisionTreeClassifier\n",
    "from sklearn.ensemble import RandomForestClassifier\n",
    "from sklearn.neural_network import MLPClassifier\n",
    "from sklearn.metrics import accuracy_score\n",
    "import time\n",
    "\n",
    "def evaluate_models(X_train, X_test, y_train, y_test):\n",
    "    results = {}\n",
    "\n",
    "    # Decision Tree\n",
    "    start = time.time()\n",
    "    dt = DecisionTreeClassifier(random_state=42)\n",
    "    dt.fit(X_train, y_train)\n",
    "    results[\"Decision Tree\"] = {\n",
    "        \"accuracy\": accuracy_score(y_test, dt.predict(X_test)),\n",
    "        \"time\": time.time() - start,\n",
    "        \"model\": dt\n",
    "    }\n",
    "\n",
    "    # Random Forest\n",
    "    start = time.time()\n",
    "    rf = RandomForestClassifier(n_estimators=100, random_state=42)\n",
    "    rf.fit(X_train, y_train)\n",
    "    results[\"Random Forest\"] = {\n",
    "        \"accuracy\": accuracy_score(y_test, rf.predict(X_test)),\n",
    "        \"time\": time.time() - start,\n",
    "        \"model\": rf\n",
    "    }\n",
    "\n",
    "    # ANN\n",
    "    start = time.time()\n",
    "    mlp = MLPClassifier(hidden_layer_sizes=(100,), max_iter=300, random_state=42)\n",
    "    mlp.fit(X_train, y_train)\n",
    "    results[\"Neural Network\"] = {\n",
    "        \"accuracy\": accuracy_score(y_test, mlp.predict(X_test)),\n",
    "        \"time\": time.time() - start,\n",
    "        \"model\": mlp\n",
    "    }\n",
    "\n",
    "    return results"
   ]
  },
  {
   "cell_type": "markdown",
   "metadata": {},
   "source": [
    "Feature Importance"
   ]
  },
  {
   "cell_type": "code",
   "execution_count": 5,
   "metadata": {},
   "outputs": [],
   "source": [
    "from scipy.stats import skew, kurtosis\n",
    "from scipy.ndimage import sobel\n",
    "import numpy as np\n",
    "def extract_custom_features(X_raw):\n",
    "    features = []\n",
    "    for row in X_raw.to_numpy():\n",
    "        img = row.reshape(24, 24)\n",
    "        gx = sobel(img, axis=1)\n",
    "        gy = sobel(img, axis=0)\n",
    "        mag = np.sqrt(gx**2 + gy**2)\n",
    "        mean = np.mean(img)\n",
    "        std = np.std(img)\n",
    "        symmetry = -np.mean(np.abs(img - np.fliplr(img)))\n",
    "        grad_mean = np.mean(mag)\n",
    "        grad_std = np.std(mag)\n",
    "        skewness = skew(row)\n",
    "        kurt = kurtosis(row)\n",
    "        grid_means = [np.mean(img[i:i+6, j:j+6]) for i in range(0, 24, 6) for j in range(0, 24, 6)]\n",
    "        feats = [mean, std, skewness, kurt, symmetry, grad_mean, grad_std] + grid_means\n",
    "        features.append(feats)\n",
    "    return pd.DataFrame(features)\n",
    "\n",
    "# Top 30 features from RF\n",
    "rf_temp = RandomForestClassifier(n_estimators=100, random_state=42)\n",
    "rf_temp.fit(X_train, y_train)\n",
    "top_indices = rf_temp.feature_importances_.argsort()[::-1][:30]\n",
    "X_train_top = X_train.iloc[:, top_indices]\n",
    "X_test_top = X_test.iloc[:, top_indices]\n",
    "\n",
    "# Handcrafted\n",
    "X_train_hand = extract_custom_features(X_train)\n",
    "X_test_hand = extract_custom_features(X_test)\n",
    "\n",
    "# Combined\n",
    "X_train_combined = pd.concat([X_train_top.reset_index(drop=True), X_train_hand.reset_index(drop=True)], axis=1)\n",
    "X_test_combined = pd.concat([X_test_top.reset_index(drop=True), X_test_hand.reset_index(drop=True)], axis=1)\n"
   ]
  },
  {
   "cell_type": "markdown",
   "metadata": {},
   "source": [
    "Retrain"
   ]
  },
  {
   "cell_type": "code",
   "execution_count": 6,
   "metadata": {},
   "outputs": [],
   "source": [
    "from sklearn.pipeline import make_pipeline\n",
    "from sklearn.preprocessing import StandardScaler\n",
    "def evaluate_models(X_tr, X_te, y_tr, y_te):\n",
    "    results = {}\n",
    "    models = {\n",
    "        \"Decision Tree\": DecisionTreeClassifier(random_state=42),\n",
    "        \"Random Forest\": RandomForestClassifier(n_estimators=100, random_state=42),\n",
    "        \"Neural Network\": make_pipeline(StandardScaler(), MLPClassifier(hidden_layer_sizes=(100,), max_iter=300, random_state=42))\n",
    "    }\n",
    "    for name, model in models.items():\n",
    "        start = time.time()\n",
    "        model.fit(X_tr, y_tr)\n",
    "        acc = accuracy_score(y_te, model.predict(X_te))\n",
    "        duration = time.time() - start\n",
    "        results[name] = (acc, duration)\n",
    "    return results\n"
   ]
  },
  {
   "cell_type": "markdown",
   "metadata": {},
   "source": [
    "Full Run"
   ]
  },
  {
   "cell_type": "code",
   "execution_count": 7,
   "metadata": {},
   "outputs": [
    {
     "name": "stderr",
     "output_type": "stream",
     "text": [
      "/Users/roki/Documents/coding/AI/project/AIProject/.venv/lib/python3.13/site-packages/sklearn/utils/extmath.py:203: RuntimeWarning: divide by zero encountered in matmul\n",
      "  ret = a @ b\n",
      "/Users/roki/Documents/coding/AI/project/AIProject/.venv/lib/python3.13/site-packages/sklearn/utils/extmath.py:203: RuntimeWarning: overflow encountered in matmul\n",
      "  ret = a @ b\n",
      "/Users/roki/Documents/coding/AI/project/AIProject/.venv/lib/python3.13/site-packages/sklearn/utils/extmath.py:203: RuntimeWarning: invalid value encountered in matmul\n",
      "  ret = a @ b\n",
      "/Users/roki/Documents/coding/AI/project/AIProject/.venv/lib/python3.13/site-packages/sklearn/utils/extmath.py:203: RuntimeWarning: divide by zero encountered in matmul\n",
      "  ret = a @ b\n",
      "/Users/roki/Documents/coding/AI/project/AIProject/.venv/lib/python3.13/site-packages/sklearn/utils/extmath.py:203: RuntimeWarning: overflow encountered in matmul\n",
      "  ret = a @ b\n",
      "/Users/roki/Documents/coding/AI/project/AIProject/.venv/lib/python3.13/site-packages/sklearn/utils/extmath.py:203: RuntimeWarning: invalid value encountered in matmul\n",
      "  ret = a @ b\n",
      "/Users/roki/Documents/coding/AI/project/AIProject/.venv/lib/python3.13/site-packages/sklearn/utils/extmath.py:203: RuntimeWarning: divide by zero encountered in matmul\n",
      "  ret = a @ b\n",
      "/Users/roki/Documents/coding/AI/project/AIProject/.venv/lib/python3.13/site-packages/sklearn/utils/extmath.py:203: RuntimeWarning: overflow encountered in matmul\n",
      "  ret = a @ b\n",
      "/Users/roki/Documents/coding/AI/project/AIProject/.venv/lib/python3.13/site-packages/sklearn/utils/extmath.py:203: RuntimeWarning: invalid value encountered in matmul\n",
      "  ret = a @ b\n",
      "/Users/roki/Documents/coding/AI/project/AIProject/.venv/lib/python3.13/site-packages/sklearn/neural_network/_multilayer_perceptron.py:691: ConvergenceWarning: Stochastic Optimizer: Maximum iterations (300) reached and the optimization hasn't converged yet.\n",
      "  warnings.warn(\n",
      "/Users/roki/Documents/coding/AI/project/AIProject/.venv/lib/python3.13/site-packages/sklearn/utils/extmath.py:203: RuntimeWarning: divide by zero encountered in matmul\n",
      "  ret = a @ b\n",
      "/Users/roki/Documents/coding/AI/project/AIProject/.venv/lib/python3.13/site-packages/sklearn/utils/extmath.py:203: RuntimeWarning: overflow encountered in matmul\n",
      "  ret = a @ b\n",
      "/Users/roki/Documents/coding/AI/project/AIProject/.venv/lib/python3.13/site-packages/sklearn/utils/extmath.py:203: RuntimeWarning: invalid value encountered in matmul\n",
      "  ret = a @ b\n",
      "/Users/roki/Documents/coding/AI/project/AIProject/.venv/lib/python3.13/site-packages/sklearn/utils/extmath.py:203: RuntimeWarning: divide by zero encountered in matmul\n",
      "  ret = a @ b\n",
      "/Users/roki/Documents/coding/AI/project/AIProject/.venv/lib/python3.13/site-packages/sklearn/utils/extmath.py:203: RuntimeWarning: overflow encountered in matmul\n",
      "  ret = a @ b\n",
      "/Users/roki/Documents/coding/AI/project/AIProject/.venv/lib/python3.13/site-packages/sklearn/utils/extmath.py:203: RuntimeWarning: invalid value encountered in matmul\n",
      "  ret = a @ b\n"
     ]
    },
    {
     "name": "stdout",
     "output_type": "stream",
     "text": [
      "\n",
      "== Raw Pixels ==\n",
      "Decision Tree: Accuracy = 0.2370, Time = 3.63s\n",
      "Random Forest: Accuracy = 0.6524, Time = 9.59s\n",
      "Neural Network: Accuracy = 0.8157, Time = 7.64s\n",
      "\n",
      "== Handcrafted Features ==\n",
      "Decision Tree: Accuracy = 0.1978, Time = 0.13s\n",
      "Random Forest: Accuracy = 0.4231, Time = 1.58s\n",
      "Neural Network: Accuracy = 0.4664, Time = 2.16s\n",
      "\n",
      "== Combined Features ==\n",
      "Decision Tree: Accuracy = 0.2300, Time = 0.31s\n",
      "Random Forest: Accuracy = 0.5307, Time = 2.67s\n",
      "Neural Network: Accuracy = 0.6144, Time = 2.21s\n"
     ]
    },
    {
     "name": "stderr",
     "output_type": "stream",
     "text": [
      "/Users/roki/Documents/coding/AI/project/AIProject/.venv/lib/python3.13/site-packages/sklearn/neural_network/_multilayer_perceptron.py:691: ConvergenceWarning: Stochastic Optimizer: Maximum iterations (300) reached and the optimization hasn't converged yet.\n",
      "  warnings.warn(\n",
      "/Users/roki/Documents/coding/AI/project/AIProject/.venv/lib/python3.13/site-packages/sklearn/utils/extmath.py:203: RuntimeWarning: divide by zero encountered in matmul\n",
      "  ret = a @ b\n",
      "/Users/roki/Documents/coding/AI/project/AIProject/.venv/lib/python3.13/site-packages/sklearn/utils/extmath.py:203: RuntimeWarning: overflow encountered in matmul\n",
      "  ret = a @ b\n",
      "/Users/roki/Documents/coding/AI/project/AIProject/.venv/lib/python3.13/site-packages/sklearn/utils/extmath.py:203: RuntimeWarning: invalid value encountered in matmul\n",
      "  ret = a @ b\n"
     ]
    }
   ],
   "source": [
    "results = {\n",
    "    \"Raw Pixels\": evaluate_models(X_train, X_test, y_train, y_test),\n",
    "    \"Handcrafted Features\": evaluate_models(X_train_hand, X_test_hand, y_train, y_test),\n",
    "    \"Combined Features\": evaluate_models(X_train_combined, X_test_combined, y_train, y_test)\n",
    "}\n",
    "\n",
    "for feature_set, res in results.items():\n",
    "    print(f\"\\n== {feature_set} ==\")\n",
    "    for model, (acc, t) in res.items():\n",
    "        print(f\"{model}: Accuracy = {acc:.4f}, Time = {t:.2f}s\")"
   ]
  }
 ],
 "metadata": {
  "kernelspec": {
   "display_name": ".venv",
   "language": "python",
   "name": "python3"
  },
  "language_info": {
   "codemirror_mode": {
    "name": "ipython",
    "version": 3
   },
   "file_extension": ".py",
   "mimetype": "text/x-python",
   "name": "python",
   "nbconvert_exporter": "python",
   "pygments_lexer": "ipython3",
   "version": "3.13.2"
  }
 },
 "nbformat": 4,
 "nbformat_minor": 2
}
